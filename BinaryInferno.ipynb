{
  "cells": [
    {
      "cell_type": "markdown",
      "metadata": {
        "colab_type": "text",
        "id": "view-in-github"
      },
      "source": [
        "<a href=\"https://colab.research.google.com/github/binaryinferno/binaryinferno/blob/main/BinaryInferno.ipynb\" target=\"_parent\"><img src=\"https://colab.research.google.com/assets/colab-badge.svg\" alt=\"Open In Colab\"/></a>"
      ]
    },
    {
      "cell_type": "markdown",
      "metadata": {},
      "source": [
        "将数据以十六进制形式提取出来，每条消息一行,您可以使用t-shark工具来完成此操作，但请注意要将数据从**封装的**TCP/UDP包中截取出来。\n",
        "如果您知道系统是大端序还是小端序，请使用相应的标志运行该工具。这将限制该工具仅基于该端序构建描述。 \n",
        "\n",
        "**detectors**\n",
        "\n",
        "BE 用于大端序\n",
        "\n",
        "LE 用于小端序\n",
        "\n",
        "时间戳操作\n",
        "\n",
        "如果消息长度都相同，则不会执行序列化模式搜索，因为我们假设字段长度是固定的。\n",
        "\n",
        "序列化模式搜索是速度最慢的部分。我们通过一些技术上可行的最低成本的shell脚本来实现并行化。（更多的CPU有助于序列化模式搜索。我们在论文中使用了40个核心。并使用了128GB的内存）\n",
        "\n",
        "在其中存在一个参数，用于设置特定偏移量搜索放弃的最长时间。"
      ]
    },
    {
      "cell_type": "code",
      "execution_count": null,
      "metadata": {
        "colab": {
          "base_uri": "https://localhost:8080/"
        },
        "id": "NYQ9nIKxw73j",
        "outputId": "0069711f-34d0-48c6-e71b-6cf038e259db"
      },
      "outputs": [
        {
          "name": "stdout",
          "output_type": "stream",
          "text": [
            "Reading package lists...\n"
          ]
        },
        {
          "name": "stdout",
          "output_type": "stream",
          "text": [
            "Cloning into 'binaryinferno'...\n"
          ]
        }
      ],
      "source": [
        "# %%bash\n",
        "# # Setup stuff\n",
        "\n",
        "# # We need parallel because we use a shell script deep down to run the serialization pattern search in parallel\n",
        "# apt -q install parallel > /dev/null \n",
        "\n",
        "\n",
        "# # We use this stuff to calculate entropy \n",
        "# pip3 install sklearn > /dev/null\n",
        "# pip3 install scipy > /dev/null\n",
        "\n",
        "# # Get a copy of the source.\n",
        "# git clone https://github.com/binaryinferno/binaryinferno.git"
      ]
    },
    {
      "cell_type": "markdown",
      "metadata": {},
      "source": [
        "创建一个输入文件叫input.txt，并填入字符，EOT是结束符，这是一种here-doc写法：\n",
        "```\n",
        "cat <<EOT > input.txt\n",
        "这里是第一行的内容。\n",
        "这里是第二行的内容。\n",
        "EOT\n",
        "```\n",
        "## 案例1："
      ]
    },
    {
      "cell_type": "code",
      "execution_count": 3,
      "metadata": {},
      "outputs": [],
      "source": [
        "%%bash\n",
        "cat <<EOT > input.txt\n",
        "00000012000005d60004746573740a6b6b622d7562756e747500\n",
        "0000001e000009f9030474657374175468697320697320612074657374206d65737361676521\n",
        "00000017000007570304746573741048656c6c6f202d2074657374696e6721\n",
        "000000150000068d021349276d20676f696e672061776179206e6f7721\n",
        "EOT"
      ]
    },
    {
      "cell_type": "code",
      "execution_count": 5,
      "metadata": {},
      "outputs": [
        {
          "name": "stdout",
          "output_type": "stream",
          "text": [
            "INFERRED DESCRIPTION\n",
            "--------------------------------------------------------------------------------\n",
            "\n",
            "\tLLLLLLLL | ?????????? RRRRRRRRRRRRRRRRRRRRRRRRRRRRRRRRRR\n",
            "\t--\n",
            "\t00000012 | 000005D600 04746573740A6B6B622D7562756E747500\n",
            "\t0000001E | 000009F903 0474657374175468697320697320612074657374206D65737361676521\n",
            "\t00000017 | 0000075703 04746573741048656C6C6F202D2074657374696E6721\n",
            "\t00000015 | 0000068D02 1349276D20676F696E672061776179206E6F7721\n",
            "\t--\n",
            "\t0 L BE UINT32 LENGTH + 8 = TOTAL MESSAGE LENGTH 16.0\n",
            "\t1 ? UNKNOWN TYPE 5 BYTE(S) 20.0\n",
            "\t2 R 0T_1L_V_BIG* 88.0\n",
            "\n",
            "QTY SAMPLES\n",
            "4\n",
            "HEADER ONLY\n",
            "LLLLLLLL | ?????????? RRRRRRRRRRRRRRRRRRRRRRRRRRRRRRRRRR\n",
            "SPECSTART\n",
            "Length 4V_BE (BE uint32 Length + 8 = Total Message Length)\n",
            "FieldFixed 5V (Unknown Type 5 Byte(s))\n",
            "FieldRep *Q_0T_1L_1V_BE (0T_1L_V_big*)\n",
            "SPECEND\n"
          ]
        }
      ],
      "source": [
        "%%bash\n",
        "\n",
        "# log.txt包含BinaryInferno的详尽输出\n",
        "# txt包含所有在stderr上出现的内容\n",
        "# 我们主要关心log.txt最后的内容\n",
        "(cd binaryinferno ; cat ../input.txt | python3 blackboard.py --detectors BE 1> ../log.txt 2> ../errs.txt )\n",
        "\n",
        "# 查看log，匹配末尾的结果\n",
        "cat log.txt | awk '/INFERRED DESCRIPTION/,/SPECEND/'"
      ]
    },
    {
      "cell_type": "markdown",
      "metadata": {
        "id": "sX22psR8UKOw"
      },
      "source": [
        "上面的代码应该产生如下的输出\n",
        "\n",
        "```\n",
        "INFERRED DESCRIPTION\n",
        "--------------------------------------------------------------------------------\n",
        "\n",
        "\tLLLLLLLL | ?????????? RRRRRRRRRRRRRRRRRRRRRRRRRRRRRRRRRR\n",
        "\t--\n",
        "\t00000012 | 000005D600 04746573740A6B6B622D7562756E747500\n",
        "\t0000001E | 000009F903 0474657374175468697320697320612074657374206D65737361676521\n",
        "\t00000017 | 0000075703 04746573741048656C6C6F202D2074657374696E6721\n",
        "\t00000015 | 0000068D02 1349276D20676F696E672061776179206E6F7721\n",
        "\t--\n",
        "\t0 L BE UINT32 LENGTH + 8 = TOTAL MESSAGE LENGTH 16.0\n",
        "\t1 ? UNKNOWN TYPE 5 BYTE(S) 20.0\n",
        "\t2 R 0T_1L_V_BIG* 88.0\n",
        "\n",
        "QTY SAMPLES\n",
        "4\n",
        "HEADER ONLY\n",
        "LLLLLLLL | ?????????? RRRRRRRRRRRRRRRRRRRRRRRRRRRRRRRRRR\n",
        "SPECSTART\n",
        "Length 4V_BE (BE uint32 Length + 8 = Total Message Length)\n",
        "FieldFixed 5V (Unknown Type 5 Byte(s))\n",
        "FieldRep *Q_0T_1L_1V_BE (0T_1L_V_big*)\n",
        "SPECEND\n",
        "```\n",
        "\n"
      ]
    },
    {
      "cell_type": "markdown",
      "metadata": {},
      "source": [
        "## 案例2："
      ]
    },
    {
      "cell_type": "code",
      "execution_count": 10,
      "metadata": {
        "colab": {
          "base_uri": "https://localhost:8080/"
        },
        "id": "wc_uIS0Z5mfB",
        "outputId": "266c5c7d-005f-40b7-a6d0-84b772644d3c"
      },
      "outputs": [
        {
          "name": "stdout",
          "output_type": "stream",
          "text": [
            "INFERRED DESCRIPTION\n",
            "--------------------------------------------------------------------------------\n",
            "\n",
            "\t?? LLLL | TTTTTTTT RRRRRRRRRRRR\n",
            "\t--\n",
            "\t01 000D | 60A67AED 054150504C45\n",
            "\t01 0011 | 60A67B05 04504C554D0450454152\n",
            "\t01 000E | 60A67AF9 064F52414E4745\n",
            "\t--\n",
            "\t0 ? UNKNOWN TYPE 1 BYTE(S) 3.0\n",
            "\t1 L BE UINT16 LENGTH + 0 = TOTAL MESSAGE LENGTH 6.0\n",
            "\t2 T BE 32BIT SPAN SECONDS 2001-02-08 11:41:41.000000 TO 2028-02-08 11:41:41.000000 1.0 12.0\n",
            "\t3 R 0T_1L_V_BIG* 23.0\n",
            "\n",
            "QTY SAMPLES\n",
            "3\n",
            "HEADER ONLY\n",
            "?? LLLL | TTTTTTTT RRRRRRRRRRRR\n",
            "SPECSTART\n",
            "FieldFixed 1V (Unknown Type 1 Byte(s))\n",
            "Length 2V_BE (BE uint16 Length + 0 = Total Message Length)\n",
            "FieldFixed 4V_BE (BE 32BIT SPAN Seconds 2001-02-08 11:41:41.000000 to 2028-02-08 11:41:41.000000 1.0)\n",
            "FieldRep *Q_0T_1L_1V_BE (0T_1L_V_big*)\n",
            "SPECEND\n"
          ]
        }
      ],
      "source": [
        "%%bash\n",
        "\n",
        "# This is the example we show in the paper \n",
        "# Setup our input file with our hex messages (one message per line)\n",
        "cat <<EOT > input.txt\n",
        "01000D60A67AED054150504C45\n",
        "01001160A67B0504504C554D0450454152\n",
        "01000E60A67AF9064F52414E4745\n",
        "EOT\n",
        "\n",
        "# Tslow是时间戳的下界\n",
        "# Tshigh是时间戳的上界\n",
        "# Don't worry if it's years too wide, that's totally fine\n",
        "(cd binaryinferno; cat ../input.txt | python3 blackboard.py --detectors BE --tslow \"2001-02-08 11:41:41\" --tshigh \"'2028-02-08 11:41:41'\" 1> ../log.txt 2> ../errs.txt )\n",
        "\n",
        "cat log.txt | awk '/INFERRED DESCRIPTION/,/SPECEND/'"
      ]
    },
    {
      "cell_type": "markdown",
      "metadata": {},
      "source": [
        "结果分析：\n",
        "```\n",
        "推理结果描述：\n",
        "--------------------------------------------------------------------------------\n",
        "协议格式和类型描述：\n",
        "\t?? LLLL | TTTTTTTT RRRRRRRRRRRR\n",
        "\t-- 采样点\n",
        "\t01 000D | 60A67AED 054150504C45\n",
        "\t01 0011 | 60A67B05 04504C554D0450454152\n",
        "\t01 000E | 60A67AF9 064F52414E4745\n",
        "\t--\n",
        "    每个字段的描述：序号、类型、大小端、数据类型、描述\n",
        "\t0 ? UNKNOWN TYPE 1 BYTE(S) 3.0\n",
        "\t1 L BE UINT16 LENGTH + 0 = TOTAL MESSAGE LENGTH 6.0\n",
        "\t2 T BE 32BIT SPAN SECONDS 2001-02-08 11:41:41.000000 TO 2028-02-08 11:41:41.000000 1.0 12.0\n",
        "\t3 R 0T_1L_V_BIG* 23.0\n",
        "\n",
        "QTY SAMPLES\n",
        "3\n",
        "HEADER ONLY\n",
        "?? LLLL | TTTTTTTT RRRRRRRRRRRR\n",
        "SPECSTART\n",
        "FieldFixed 1V (Unknown Type 1 Byte(s))\n",
        "Length 2V_BE (BE uint16 Length + 0 = Total Message Length)\n",
        "FieldFixed 4V_BE (BE 32BIT SPAN Seconds 2001-02-08 11:41:41.000000 to 2028-02-08 11:41:41.000000 1.0)\n",
        "FieldRep *Q_0T_1L_1V_BE (0T_1L_V_big*)\n",
        "SPECEND\n",
        "```"
      ]
    },
    {
      "cell_type": "code",
      "execution_count": 14,
      "metadata": {},
      "outputs": [
        {
          "name": "stdout",
          "output_type": "stream",
          "text": [
            "usage: blackboard.py [-h] [--filename FILENAME]\n",
            "                     [--detectors DETECTORS [DETECTORS ...]] [--sigmaonly]\n",
            "                     [--recurse] [--n MAXMSGS] [--tslow TSLOW]\n",
            "                     [--tshigh TSHIGH]\n",
            "\n",
            "Process some integers.\n",
            "\n",
            "optional arguments:\n",
            "  -h, --help            show this help message and exit\n",
            "  --filename FILENAME   Filename to Read Input From\n",
            "  --detectors DETECTORS [DETECTORS ...]\n",
            "                        use only a single specific detector\n",
            "  --sigmaonly           Report Only the Final Inferred description\n",
            "  --recurse             Attempt Recursive Inference on Unknown portions\n",
            "  --n MAXMSGS           Maximum Number of Messages to Use for Inference\n",
            "  --tslow TSLOW         Datetime Range Low\n",
            "  --tshigh TSHIGH       Datetime Range High\n"
          ]
        }
      ],
      "source": [
        "%%bash\n",
        "cd binaryinferno ;python3 blackboard.py --help"
      ]
    }
  ],
  "metadata": {
    "colab": {
      "include_colab_link": true,
      "provenance": []
    },
    "kernelspec": {
      "display_name": "Python 3",
      "name": "python3"
    },
    "language_info": {
      "codemirror_mode": {
        "name": "ipython",
        "version": 3
      },
      "file_extension": ".py",
      "mimetype": "text/x-python",
      "name": "python",
      "nbconvert_exporter": "python",
      "pygments_lexer": "ipython3",
      "version": "3.7.16"
    }
  },
  "nbformat": 4,
  "nbformat_minor": 0
}

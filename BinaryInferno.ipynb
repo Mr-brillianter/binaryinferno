{
  "nbformat": 4,
  "nbformat_minor": 0,
  "metadata": {
    "colab": {
      "provenance": [],
      "include_colab_link": true
    },
    "kernelspec": {
      "name": "python3",
      "display_name": "Python 3"
    },
    "language_info": {
      "name": "python"
    }
  },
  "cells": [
    {
      "cell_type": "markdown",
      "metadata": {
        "id": "view-in-github",
        "colab_type": "text"
      },
      "source": [
        "<a href=\"https://colab.research.google.com/github/binaryinferno/binaryinferno/blob/main/BinaryInferno.ipynb\" target=\"_parent\"><img src=\"https://colab.research.google.com/assets/colab-badge.svg\" alt=\"Open In Colab\"/></a>"
      ]
    },
    {
      "cell_type": "markdown",
      "source": [
        "Standard Caveats: \n",
        "* Grad Student Code. \n",
        "* Papers first, then code cleanup. \n",
        "\n",
        "What does it need to run? \n",
        "\n",
        "* Python3.7?\n",
        "* the shell `parallel` command for the pattern search and speedups\n",
        "* `scikit` and `sklearn` for a couple places. Those might be vestigial. \n",
        "\n",
        "What do you need to do?\n",
        "\n",
        "* Get your data extracted as hex, one message per line. \n",
        "* You can do this with `t-shark`, but be careful to trim it out of the encapsulating TCP / UDP packet.\n",
        "* If you know a prior about whether the system is big or little endian, run it with that flag. This will restrict the tool to only building descriptions out of that endianess.\n",
        "** `--detectors BE` for Big Endian\n",
        "** `--detectors LE` for Little Endian\n",
        "\n",
        "Time stuff\n",
        "\n",
        "* If messages are all the same length, no serialization pattern search will be performed, since we assume the fields are fixed length.\n",
        "* Serialization pattern search is the slowest part. We use parallelization via some lowest-cost technically acceptable shell scripts. \n",
        "( More CPUs help with serialization pattern search. We used 40 cores for the paper. And 128GB of RAM\n",
        "* There's a parameter deep in there which sets the amount of time before the serialization pattern search will give up when searching from a specific offset. \n",
        "\n",
        "* If you have a question about use, email me or post an issue. I'll do my best to help. \n",
        "\n",
        "* I will work on getting a better set of documentation together in the future as my schedule allows.\n",
        "\n",
        "* If you're a research group / organization I'm happy to schedule a more in-depth dissussion. "
      ],
      "metadata": {
        "id": "vB7xDrtTUjcg"
      }
    },
    {
      "cell_type": "code",
      "source": [
        "%%bash\n",
        "# Setup stuff\n",
        "\n",
        "# We need parallel because we use a shell script deep down to run the serialization pattern search in parallel\n",
        "apt -q install parallel > /dev/null \n",
        "\n",
        "\n",
        "# We use this stuff to calculate entropy \n",
        "pip3 install sklearn > /dev/null\n",
        "pip3 install scipy > /dev/null\n",
        "\n",
        "# Get a copy of the source.\n",
        "git clone https://github.com/binaryinferno/binaryinferno.git\n",
        "\n"
      ],
      "metadata": {
        "id": "NYQ9nIKxw73j",
        "colab": {
          "base_uri": "https://localhost:8080/"
        },
        "outputId": "0069711f-34d0-48c6-e71b-6cf038e259db"
      },
      "execution_count": null,
      "outputs": [
        {
          "output_type": "stream",
          "name": "stdout",
          "text": [
            "Reading package lists...\n"
          ]
        },
        {
          "output_type": "stream",
          "name": "stdout",
          "text": [

            "Cloning into 'binaryinferno'...\n"
          ]
        }
      ]
    },
    {
      "cell_type": "code",
      "source": [
        "%%bash\n",
        "\n",
        "# Setup our input file with our hex messages (one message per line)\n",
        "cat <<EOT > input.txt\n",
        "00000012000005d60004746573740a6b6b622d7562756e747500\n",
        "0000001e000009f9030474657374175468697320697320612074657374206d65737361676521\n",
        "00000017000007570304746573741048656c6c6f202d2074657374696e6721\n",
        "000000150000068d021349276d20676f696e672061776179206e6f7721\n",
        "EOT\n",
        "\n",
        "\n",
        "# The flag \"BE\" means use only BIG ENDIAN detectors\n",
        "# Use \"LE\" for LITTLE ENDIAN detectors\n",
        "(cd binaryinferno/binaryinferno ; cat ../../input.txt | python3 blackboard.py --detectors BE 1> ../../log.txt 2> ../../errs.txt )\n",
        "\n",
        "# log.txt contains BinaryInferno's exhaustive output\n",
        "# errs.txt contains anything which came out on stderr\n",
        "# We mainly care about the stuff at the very end of log.txt\n",
        "cat log.txt | awk '/INFERRED DESCRIPTION/,/SPECEND/'"
      ],
      "metadata": {
        "id": "meeKUGJQuYUX",
        "colab": {
          "base_uri": "https://localhost:8080/"
        },
        "outputId": "9f9f42bd-f947-4549-9442-9b624bb66460"
      },
      "execution_count": null,
      "outputs": [
        {
          "output_type": "stream",
          "name": "stdout",
          "text": [
            "INFERRED DESCRIPTION\n",
            "--------------------------------------------------------------------------------\n",
            "\n",
            "\tLLLLLLLL | ?????????? RRRRRRRRRRRRRRRRRRRRRRRRRRRRRRRRRR\n",
            "\t--\n",
            "\t00000012 | 000005D600 04746573740A6B6B622D7562756E747500\n",
            "\t0000001E | 000009F903 0474657374175468697320697320612074657374206D65737361676521\n",
            "\t00000017 | 0000075703 04746573741048656C6C6F202D2074657374696E6721\n",
            "\t00000015 | 0000068D02 1349276D20676F696E672061776179206E6F7721\n",
            "\t--\n",
            "\t0 L BE UINT32 LENGTH + 8 = TOTAL MESSAGE LENGTH 16.0\n",
            "\t1 ? UNKNOWN TYPE 5 BYTE(S) 20.0\n",
            "\t2 R 0T_1L_V_BIG* 88.0\n",
            "\n",
            "QTY SAMPLES\n",
            "4\n",
            "HEADER ONLY\n",
            "LLLLLLLL | ?????????? RRRRRRRRRRRRRRRRRRRRRRRRRRRRRRRRRR\n",
            "SPECSTART\n",
            "Length 4V_BE (BE uint32 Length + 8 = Total Message Length)\n",
            "FieldFixed 5V (Unknown Type 5 Byte(s))\n",
            "FieldRep *Q_0T_1L_1V_BE (0T_1L_V_big*)\n",
            "SPECEND\n"
          ]
        }
      ]
    },
    {
      "cell_type": "markdown",
      "source": [
        "The above should have produced output showing the following\n",
        "\n",
        "\n",
        "\n",
        "```\n",
        "INFERRED DESCRIPTION\n",
        "--------------------------------------------------------------------------------\n",
        "\n",
        "\tLLLLLLLL | ?????????? RRRRRRRRRRRRRRRRRRRRRRRRRRRRRRRRRR\n",
        "\t--\n",
        "\t00000012 | 000005D600 04746573740A6B6B622D7562756E747500\n",
        "\t0000001E | 000009F903 0474657374175468697320697320612074657374206D65737361676521\n",
        "\t00000017 | 0000075703 04746573741048656C6C6F202D2074657374696E6721\n",
        "\t00000015 | 0000068D02 1349276D20676F696E672061776179206E6F7721\n",
        "\t--\n",
        "\t0 L BE UINT32 LENGTH + 8 = TOTAL MESSAGE LENGTH 16.0\n",
        "\t1 ? UNKNOWN TYPE 5 BYTE(S) 20.0\n",
        "\t2 R 0T_1L_V_BIG* 88.0\n",
        "\n",
        "QTY SAMPLES\n",
        "4\n",
        "HEADER ONLY\n",
        "LLLLLLLL | ?????????? RRRRRRRRRRRRRRRRRRRRRRRRRRRRRRRRRR\n",
        "SPECSTART\n",
        "Length 4V_BE (BE uint32 Length + 8 = Total Message Length)\n",
        "FieldFixed 5V (Unknown Type 5 Byte(s))\n",
        "FieldRep *Q_0T_1L_1V_BE (0T_1L_V_big*)\n",
        "SPECEND\n",
        "```\n",
        "\n"
      ],
      "metadata": {
        "id": "sX22psR8UKOw"
      }
    },
    {
      "cell_type": "code",
      "source": [
        "%%bash\n",
        "\n",
        "\n",
        "# This is the example we show in the paper \n",
        "# Setup our input file with our hex messages (one message per line)\n",
        "cat <<EOT > input.txt\n",
        "01000D60A67AED054150504C45\n",
        "01001160A67B0504504C554D0450454152\n",
        "01000E60A67AF9064F52414E4745\n",
        "EOT\n",
        "\n",
        "# The flag \"BE\" means use only BIG ENDIAN detectors\n",
        "# Use \"LE\" for LITTLE ENDIAN detectors\n",
        "# tslow is lower bound for timestamps\n",
        "# tshigh is upper bound for timestamps \n",
        "# Don't worry if it's years too wide, that's totally fine\n",
        "(cd binaryinferno/binaryinferno; cat ../../input.txt | python3 blackboard.py --detectors BE --tslow \"2001-02-08 11:41:41\" --tshigh \"'2028-02-08 11:41:41'\" 1> ../../log.txt 2> ../../errs.txt )\n",
        "\n",
        "\n",
        "# log.txt contains BinaryInferno's exhaustive output\n",
        "# errs.txt contains anything which came out on stderr\n",
        "# We mainly care about the stuff at the very end of log.txt\n",
        "\n",
        "cat log.txt | awk '/INFERRED DESCRIPTION/,/SPECEND/'"
      ],
      "metadata": {
        "colab": {
          "base_uri": "https://localhost:8080/"
        },
        "id": "wc_uIS0Z5mfB",
        "outputId": "266c5c7d-005f-40b7-a6d0-84b772644d3c"
      },
      "execution_count": null,
      "outputs": [
        {
          "output_type": "stream",
          "name": "stdout",
          "text": [
            "INFERRED DESCRIPTION\n",
            "--------------------------------------------------------------------------------\n",
            "\n",
            "\t?? LLLL | TTTTTTTT RRRRRRRRRRRR\n",
            "\t--\n",
            "\t01 000D | 60A67AED 054150504C45\n",
            "\t01 0011 | 60A67B05 04504C554D0450454152\n",
            "\t01 000E | 60A67AF9 064F52414E4745\n",
            "\t--\n",
            "\t0 ? UNKNOWN TYPE 1 BYTE(S) 3.0\n",
            "\t1 L BE UINT16 LENGTH + 0 = TOTAL MESSAGE LENGTH 6.0\n",
            "\t2 T BE 32BIT SPAN SECONDS 2001-02-08 11:41:41.000000 TO 2028-02-08 11:41:41.000000 1.0 12.0\n",
            "\t3 R 0T_1L_V_BIG* 23.0\n",
            "\n",
            "QTY SAMPLES\n",
            "3\n",
            "HEADER ONLY\n",
            "?? LLLL | TTTTTTTT RRRRRRRRRRRR\n",
            "SPECSTART\n",
            "FieldFixed 1V (Unknown Type 1 Byte(s))\n",
            "Length 2V_BE (BE uint16 Length + 0 = Total Message Length)\n",
            "FieldFixed 4V_BE (BE 32BIT SPAN Seconds 2001-02-08 11:41:41.000000 to 2028-02-08 11:41:41.000000 1.0)\n",
            "FieldRep *Q_0T_1L_1V_BE (0T_1L_V_big*)\n",
            "SPECEND\n"
          ]
        }
      ]
    },
    {
      "cell_type": "markdown",
      "source": [
        "The above should have produced the following results:\n",
        "```\n",
        "INFERRED DESCRIPTION\n",
        "--------------------------------------------------------------------------------\n",
        "\n",
        "\t?? LLLL | TTTTTTTT RRRRRRRRRRRR\n",
        "\t--\n",
        "\t01 000D | 60A67AED 054150504C45\n",
        "\t01 0011 | 60A67B05 04504C554D0450454152\n",
        "\t01 000E | 60A67AF9 064F52414E4745\n",
        "\t--\n",
        "\t0 ? UNKNOWN TYPE 1 BYTE(S) 3.0\n",
        "\t1 L BE UINT16 LENGTH + 0 = TOTAL MESSAGE LENGTH 6.0\n",
        "\t2 T BE 32BIT SPAN SECONDS 2001-02-08 11:41:41.000000 TO 2028-02-08 11:41:41.000000 1.0 12.0\n",
        "\t3 R 0T_1L_V_BIG* 23.0\n",
        "\n",
        "QTY SAMPLES\n",
        "3\n",
        "HEADER ONLY\n",
        "?? LLLL | TTTTTTTT RRRRRRRRRRRR\n",
        "SPECSTART\n",
        "FieldFixed 1V (Unknown Type 1 Byte(s))\n",
        "Length 2V_BE (BE uint16 Length + 0 = Total Message Length)\n",
        "FieldFixed 4V_BE (BE 32BIT SPAN Seconds 2001-02-08 11:41:41.000000 to 2028-02-08 11:41:41.000000 1.0)\n",
        "FieldRep *Q_0T_1L_1V_BE (0T_1L_V_big*)\n",
        "SPECEND\n",
        "```\n"
      ],
      "metadata": {
        "id": "YmhvdhjjUc3F"
      }
    }
  ]
}
